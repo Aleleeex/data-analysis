{
 "cells": [
  {
   "cell_type": "markdown",
   "id": "0a5d0d64-52f5-42f3-a74f-353d974372ee",
   "metadata": {},
   "source": [
    "## 1. Importar librerias"
   ]
  },
  {
   "cell_type": "code",
   "execution_count": 17,
   "id": "d0bc1b23-27c2-49c3-844a-9392883f1e28",
   "metadata": {},
   "outputs": [],
   "source": [
    "# Importar librerias\n",
    "import pandas as pd\n",
    "import numpy as np\n",
    "import matplotlib.pyplot as plt\n",
    "import seaborn as sns"
   ]
  },
  {
   "cell_type": "markdown",
   "id": "89b3b044-edf6-4e91-8156-0aa8bf008ac2",
   "metadata": {},
   "source": [
    "## 2. Importar dataset"
   ]
  },
  {
   "cell_type": "code",
   "execution_count": 18,
   "id": "3ecb5b8b-2b77-4ff7-adec-9695e448cc74",
   "metadata": {},
   "outputs": [],
   "source": [
    "uber=pd.read_csv('C:/Users/AlexP/Documents/workspace/ML/Laboratorios 9C/Uber.csv')"
   ]
  },
  {
   "cell_type": "code",
   "execution_count": 19,
   "id": "6b5f032e-2534-4249-b252-b8dcb6cc0988",
   "metadata": {},
   "outputs": [
    {
     "data": {
      "text/html": [
       "<div>\n",
       "<style scoped>\n",
       "    .dataframe tbody tr th:only-of-type {\n",
       "        vertical-align: middle;\n",
       "    }\n",
       "\n",
       "    .dataframe tbody tr th {\n",
       "        vertical-align: top;\n",
       "    }\n",
       "\n",
       "    .dataframe thead th {\n",
       "        text-align: right;\n",
       "    }\n",
       "</style>\n",
       "<table border=\"1\" class=\"dataframe\">\n",
       "  <thead>\n",
       "    <tr style=\"text-align: right;\">\n",
       "      <th></th>\n",
       "      <th>Dispatching_base_num</th>\n",
       "      <th>Pickup_date</th>\n",
       "      <th>Affiliated_base_num</th>\n",
       "      <th>locationID</th>\n",
       "    </tr>\n",
       "  </thead>\n",
       "  <tbody>\n",
       "    <tr>\n",
       "      <th>0</th>\n",
       "      <td>B02617</td>\n",
       "      <td>2015-05-17 09:47:00</td>\n",
       "      <td>B02617</td>\n",
       "      <td>141</td>\n",
       "    </tr>\n",
       "    <tr>\n",
       "      <th>1</th>\n",
       "      <td>B02617</td>\n",
       "      <td>2015-05-17 09:47:00</td>\n",
       "      <td>B02617</td>\n",
       "      <td>65</td>\n",
       "    </tr>\n",
       "    <tr>\n",
       "      <th>2</th>\n",
       "      <td>B02617</td>\n",
       "      <td>2015-05-17 09:47:00</td>\n",
       "      <td>B02617</td>\n",
       "      <td>100</td>\n",
       "    </tr>\n",
       "    <tr>\n",
       "      <th>3</th>\n",
       "      <td>B02617</td>\n",
       "      <td>2015-05-17 09:47:00</td>\n",
       "      <td>B02774</td>\n",
       "      <td>80</td>\n",
       "    </tr>\n",
       "    <tr>\n",
       "      <th>4</th>\n",
       "      <td>B02617</td>\n",
       "      <td>2015-05-17 09:47:00</td>\n",
       "      <td>B02617</td>\n",
       "      <td>90</td>\n",
       "    </tr>\n",
       "  </tbody>\n",
       "</table>\n",
       "</div>"
      ],
      "text/plain": [
       "  Dispatching_base_num          Pickup_date Affiliated_base_num  locationID\n",
       "0               B02617  2015-05-17 09:47:00              B02617         141\n",
       "1               B02617  2015-05-17 09:47:00              B02617          65\n",
       "2               B02617  2015-05-17 09:47:00              B02617         100\n",
       "3               B02617  2015-05-17 09:47:00              B02774          80\n",
       "4               B02617  2015-05-17 09:47:00              B02617          90"
      ]
     },
     "execution_count": 19,
     "metadata": {},
     "output_type": "execute_result"
    }
   ],
   "source": [
    "uber.head()"
   ]
  },
  {
   "cell_type": "markdown",
   "id": "a8a194c3-cba8-4bc3-a0c1-d8b0f928f2b1",
   "metadata": {},
   "source": [
    "**2. Exploracion de las caracteristicas del dataset y procesamiento**"
   ]
  },
  {
   "cell_type": "code",
   "execution_count": 20,
   "id": "d9a685fc-5f98-4853-81ab-dc0b3df5be52",
   "metadata": {},
   "outputs": [
    {
     "data": {
      "text/plain": [
       "(14270479, 4)"
      ]
     },
     "execution_count": 20,
     "metadata": {},
     "output_type": "execute_result"
    }
   ],
   "source": [
    "#visualiza el tamanio del dataset\n",
    "uber.shape"
   ]
  },
  {
   "cell_type": "code",
   "execution_count": 21,
   "id": "971a76c6-0666-4b52-8251-37e69ed7f008",
   "metadata": {},
   "outputs": [
    {
     "data": {
      "text/plain": [
       "np.int64(898225)"
      ]
     },
     "execution_count": 21,
     "metadata": {},
     "output_type": "execute_result"
    }
   ],
   "source": [
    "#Mostrar valores duplicados\n",
    "uber.duplicated().sum()"
   ]
  },
  {
   "cell_type": "code",
   "execution_count": 22,
   "id": "cad82fa0-b046-484c-899e-a5d9d11b3a54",
   "metadata": {},
   "outputs": [],
   "source": [
    "#Eliminar valores duplicados\n",
    "uber.drop_duplicates(inplace=True)"
   ]
  },
  {
   "cell_type": "code",
   "execution_count": 23,
   "id": "71e3ecfe-7f97-4f7c-8228-8b34f22c5f9a",
   "metadata": {},
   "outputs": [
    {
     "data": {
      "text/plain": [
       "np.int64(0)"
      ]
     },
     "execution_count": 23,
     "metadata": {},
     "output_type": "execute_result"
    }
   ],
   "source": [
    "#Verificar la eliminacion de valores duplicados\n",
    "uber.duplicated().sum()"
   ]
  },
  {
   "cell_type": "code",
   "execution_count": 24,
   "id": "2f1664af-84a8-4833-99d9-9e74fc48df64",
   "metadata": {},
   "outputs": [
    {
     "data": {
      "text/plain": [
       "(13372254, 4)"
      ]
     },
     "execution_count": 24,
     "metadata": {},
     "output_type": "execute_result"
    }
   ],
   "source": [
    "#visualiza el tamanio del dataset\n",
    "uber.shape"
   ]
  },
  {
   "cell_type": "code",
   "execution_count": 25,
   "id": "6aad36b1-fc25-42b9-9720-b44f0a7aa7b0",
   "metadata": {},
   "outputs": [
    {
     "data": {
      "text/plain": [
       "Dispatching_base_num    object\n",
       "Pickup_date             object\n",
       "Affiliated_base_num     object\n",
       "locationID               int64\n",
       "dtype: object"
      ]
     },
     "execution_count": 25,
     "metadata": {},
     "output_type": "execute_result"
    }
   ],
   "source": [
    "#Visualizar los tipos de datos de las columnas del dataset\n",
    "uber.dtypes"
   ]
  },
  {
   "cell_type": "code",
   "execution_count": 26,
   "id": "a34837a3-c60d-4908-9b97-502cbeffb257",
   "metadata": {},
   "outputs": [],
   "source": [
    "#Comnvertir la columna Pickup_date de tipo objecto a Datetime\n",
    "uber['Pickup_date'] = pd.to_datetime(uber['Pickup_date'], format='%Y-%m-%d %H:%M:%S')"
   ]
  },
  {
   "cell_type": "code",
   "execution_count": 27,
   "id": "9fb342f4-aca7-4b36-a39f-e382fa962692",
   "metadata": {},
   "outputs": [
    {
     "data": {
      "text/plain": [
       "Dispatching_base_num            object\n",
       "Pickup_date             datetime64[ns]\n",
       "Affiliated_base_num             object\n",
       "locationID                       int64\n",
       "dtype: object"
      ]
     },
     "execution_count": 27,
     "metadata": {},
     "output_type": "execute_result"
    }
   ],
   "source": [
    "#Extraer el mes del dataset\n",
    "uber.dtypes"
   ]
  },
  {
   "cell_type": "code",
   "execution_count": 28,
   "id": "ae2b85f1-ee5f-4f6e-b1cb-88b58791a02b",
   "metadata": {},
   "outputs": [
    {
     "data": {
      "text/plain": [
       "0           5\n",
       "1           5\n",
       "2           5\n",
       "3           5\n",
       "4           5\n",
       "           ..\n",
       "14270474    5\n",
       "14270475    5\n",
       "14270476    5\n",
       "14270477    5\n",
       "14270478    5\n",
       "Name: Pickup_date, Length: 13372254, dtype: int32"
      ]
     },
     "execution_count": 28,
     "metadata": {},
     "output_type": "execute_result"
    }
   ],
   "source": [
    "#Extraer los meses del dataset\n",
    "uber['Pickup_date'].dt.month"
   ]
  },
  {
   "cell_type": "code",
   "execution_count": 29,
   "id": "e08e2872-c5d6-44bf-bab5-1f736a247b6b",
   "metadata": {},
   "outputs": [
    {
     "data": {
      "text/plain": [
       "0           17\n",
       "1           17\n",
       "2           17\n",
       "3           17\n",
       "4           17\n",
       "            ..\n",
       "14270474     8\n",
       "14270475     8\n",
       "14270476     8\n",
       "14270477     8\n",
       "14270478     8\n",
       "Name: Pickup_date, Length: 13372254, dtype: int32"
      ]
     },
     "execution_count": 29,
     "metadata": {},
     "output_type": "execute_result"
    }
   ],
   "source": [
    "#Extraer los dias del dataset\n",
    "uber['Pickup_date'].dt.day"
   ]
  },
  {
   "cell_type": "code",
   "execution_count": null,
   "id": "6e3f213c-9a64-468d-a420-2df133b18c6c",
   "metadata": {},
   "outputs": [],
   "source": [
    "#Extraer y agregar las caracteristicas extraidas\n",
    "uber['month']=uber['Pickup_date'].dt.month\n",
    "uber['day']=uber['Pickup_date'].dt.day\n",
    "uber['weekday']=uber['Pickup_date'].dt.day_name()\n",
    "uber['hour']=uber['Pickup_date'].dt.hour\n",
    "uber['minute']=uber['Pickup_date'].dt.minute\n",
    "\n",
    "#Verificar la creacion de columnas\n",
    "uber"
   ]
  },
  {
   "cell_type": "code",
   "execution_count": null,
   "id": "141541af-b5a5-4627-b342-182993849112",
   "metadata": {},
   "outputs": [],
   "source": [
    "#Grafica los valores obtenidos del conteo mensual de servicios\n",
    "uber['month'].value_counts().plot(kind='bar')"
   ]
  },
  {
   "cell_type": "code",
   "execution_count": null,
   "id": "88c3daa3-f88b-43f2-ba27-534f3aba1824",
   "metadata": {},
   "outputs": [],
   "source": [
    "#Agrupa los datos utilizando las columunas motnh y weekday del dataset y las guardamos en el dataset llamado datagroup1\n",
    "datagroup1=uber.groupby(['month','weekday'], as_index=False).size()"
   ]
  },
  {
   "cell_type": "raw",
   "id": "08c579a0-26a5-4557-9bab-81d3eb285292",
   "metadata": {},
   "source": [
    "datagroup1.head()"
   ]
  },
  {
   "cell_type": "code",
   "execution_count": null,
   "id": "1d0140e5-4abd-47d2-be9f-08d4bedd7d49",
   "metadata": {},
   "outputs": [],
   "source": [
    "#Muestra los valores unicos contenidos en la columna math\n",
    "datagroup1['month'].unique()"
   ]
  },
  {
   "cell_type": "code",
   "execution_count": null,
   "id": "968bdeea-5b58-4bde-9dec-a3f7bb5538f8",
   "metadata": {},
   "outputs": [],
   "source": [
    "#Construye"
   ]
  }
 ],
 "metadata": {
  "kernelspec": {
   "display_name": "Python 3 (ipykernel)",
   "language": "python",
   "name": "python3"
  },
  "language_info": {
   "codemirror_mode": {
    "name": "ipython",
    "version": 3
   },
   "file_extension": ".py",
   "mimetype": "text/x-python",
   "name": "python",
   "nbconvert_exporter": "python",
   "pygments_lexer": "ipython3",
   "version": "3.11.9"
  }
 },
 "nbformat": 4,
 "nbformat_minor": 5
}
